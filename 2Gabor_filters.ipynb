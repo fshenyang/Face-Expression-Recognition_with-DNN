{
  "nbformat": 4,
  "nbformat_minor": 0,
  "metadata": {
    "colab": {
      "name": "2Gabor_filters.ipynb",
      "provenance": [],
      "private_outputs": true,
      "collapsed_sections": [],
      "authorship_tag": "ABX9TyNm63w1ukr+YEQz0yB21bRO",
      "include_colab_link": true
    },
    "kernelspec": {
      "name": "python3",
      "display_name": "Python 3"
    }
  },
  "cells": [
    {
      "cell_type": "markdown",
      "metadata": {
        "id": "view-in-github",
        "colab_type": "text"
      },
      "source": [
        "<a href=\"https://colab.research.google.com/github/dmswl0707/Face-Expression-Recognition_with-DNN/blob/main/2Gabor_filters.ipynb\" target=\"_parent\"><img src=\"https://colab.research.google.com/assets/colab-badge.svg\" alt=\"Open In Colab\"/></a>"
      ]
    },
    {
      "cell_type": "code",
      "metadata": {
        "id": "_hVJGyo8Z8uN"
      },
      "source": [
        "import cv2\n",
        "import numpy as np\n",
        "import matplotlib.pyplot as plt\n",
        "import math\n",
        "import torch\n",
        "import torchvision\n",
        "\n",
        "\n",
        "from google.colab import drive\n",
        "drive.mount('/content/drive')\n",
        "data='/content/drive/My Drive/Colab Notebooks/data/baby.png'\n",
        "\n",
        "\n",
        "origin_img = cv2.imread(data,0).astype(np.float32) # gray scale\n",
        "origin_img = origin_img / 255\n",
        "\n",
        " \n",
        "\n",
        "# Garbor filter form\n",
        "\n",
        "kernel = cv2.getGaborKernel((18,18), 1.5, 2.33, 5, 1.5, 0, cv2.CV_32F)\n",
        "kernel /= math.sqrt((kernel * kernel).sum())\n",
        "\n",
        " \n",
        "filtered = cv2.filter2D(origin_img, -1, kernel)\n",
        "\n",
        " \n",
        "plt.figure(figsize=(8,3))\n",
        "plt.subplot(131)\n",
        "plt.axis('off')\n",
        "plt.title('origin_img')\n",
        "\n",
        "plt.imshow(origin_img, cmap='gray')\n",
        "plt.subplot(132)\n",
        "plt.axis('off')\n",
        "\n",
        "plt.imshow(kernel, cmap='gray')\n",
        "plt.title('kernel')\n",
        "plt.subplot(133)\n",
        "plt.axis('off')\n",
        "\n"
      ],
      "execution_count": null,
      "outputs": []
    },
    {
      "cell_type": "code",
      "metadata": {
        "id": "chgzD-8nnAt-"
      },
      "source": [
        "plt.imshow(filtered, cmap='gray')\n",
        "#plt.title('filtered')\n",
        "#plt.tight_layout() - figure 상의 공백을 잘 배치\n",
        "plt.axis('off') #가로세로 축 꺼짐\n",
        "\n",
        "plt.savefig('/content/drive/My Drive/Colab Notebooks/data/revised_data/baby_1.png')\n"
      ],
      "execution_count": null,
      "outputs": []
    },
    {
      "cell_type": "code",
      "metadata": {
        "id": "FgaY42Qsr_Iy"
      },
      "source": [
        "data2='/content/drive/My Drive/Colab Notebooks/data/revised_data/baby_1.png'\n",
        "\n",
        "gabor2_img = cv2.imread(data2,0).astype(np.float32) # gray scale\n",
        "gabor2_img = gabor2_img / 255\n",
        "\n",
        "# Garbor filter form\n",
        "\n",
        "kernel = cv2.getGaborKernel((18,18), 1.5, 0.53, 5, 1.5, 0, cv2.CV_32F)\n",
        "kernel /= math.sqrt((kernel * kernel).sum())\n",
        "\n",
        " \n",
        "filtered2 = cv2.filter2D(gabor2_img, -1, kernel)\n",
        "\n",
        "plt.figure(figsize=(8,3))\n",
        "plt.imshow(filtered2, cmap='gray')\n",
        "target=plt.axis('off') \n",
        "\n",
        "\n",
        "\n",
        "###이미지데이터를 읽어와서 이미지 크롭하기\n",
        "transforms = torch.nn.Sequential(\n",
        "    transforms.CenterCrop(10),\n",
        "    transforms.Normalize((0.485, 0.456, 0.406), (0.229, 0.224, 0.225)),\n",
        ")\n",
        "scripted_transforms = torch.jit.script(transforms)\n",
        "\n",
        "\n",
        "plt.savefig('/content/drive/My Drive/Colab Notebooks/data/revised_data/baby_2.png')"
      ],
      "execution_count": null,
      "outputs": []
    }
  ]
}